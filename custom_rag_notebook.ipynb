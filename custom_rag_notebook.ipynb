{
 "cells": [
  {
   "cell_type": "code",
   "execution_count": 4,
   "metadata": {},
   "outputs": [],
   "source": [
    "import os\n",
    "import numpy as np"
   ]
  },
  {
   "cell_type": "code",
   "execution_count": 1,
   "metadata": {},
   "outputs": [
    {
     "data": {
      "text/plain": [
       "[\"Rajasthan is a state in northwestern India.It covers 342,239 square kilometres (132,139 sq mi) or \\n10.4 per cent of India's total geographical area. It is the largest Indian state by area and the \\nlargest by population. It is on India's northwestern side, where it comprises most of the wide and \\ninhospitable Thar Desert (also known as the Great Indian Desert) and shares a border with the Pakistani \\nprovinces of Punjab to the northwest and Sindh to the west, along the Sutlej-Indus River valley. \\nIt is bordered by five other Indian states: Punjab to the north; Haryana and Uttar Pradesh to the northeast; \\nMadhya Pradesh to the southeast; and Gujarat to the southwest. Its geographical location is 23Â°.3' to 30Â°.12'\\nNorth latitude and 69Â°.30' to 78Â°.17' East longitude, with the Tropic of Cancer passing through its southernmost tip.\\n\\nIts major features include the ruins of the Indus Valley civilisation at Kalibangan and Balathal, the Dilwara Temples, \\na Jain pilgrimage site at Rajasthan's only hill station, Mount Abu, in the ancient Aravalli mountain range and eastern \\nRajasthan, the Keoladeo National Park of Bharatpur, a World Heritage Site known for its bird life. Rajasthan \\nis also home to three national tiger reserves, the Ranthambore National Park in Sawai Madhopur, Sariska Tiger Reserve \\nin Alwar and the Mukundra Hills Tiger Reserve in Kota.\\n\\nThe State of Rajasthan was formed on 30 March 1949 when the states of the Rajputana Agency of the erstwhile British Empire \\nin India were merged into the new Indian Union. Its capital and largest city is Jaipur. Other important cities are Jodhpur, \\nKota, Bikaner, Ajmer, Bhilwara, Sawai Madhopur, Bharatpur and Udaipur. The economy of Rajasthan is the seventh-largest state \\neconomy in India with â‚¹10.20 lakh crore (US$120 billion) in gross domestic product and a per capita GDP of â‚¹118,000 (US$1,400).\\nRajasthan ranks 22nd among Indian states in human development index.\"]"
      ]
     },
     "execution_count": 1,
     "metadata": {},
     "output_type": "execute_result"
    }
   ],
   "source": [
    "\n",
    "def load_documents(directory):\n",
    "    documents = []\n",
    "    for filename in os.listdir(directory):\n",
    "        if filename.endswith('.txt'):\n",
    "            with open(os.path.join(directory, filename), 'r') as file:\n",
    "                documents.append(file.read())\n",
    "    return documents\n",
    "\n",
    "documents = load_documents('data')\n",
    "documents"
   ]
  },
  {
   "cell_type": "code",
   "execution_count": 3,
   "metadata": {},
   "outputs": [],
   "source": [
    "# yet to apply embedding model\n",
    "\n",
    "\n",
    "\n",
    "from huggingface_hub import HuggingFaceEmbeddings\n",
    "import faiss\n",
    "import numpy as np\n",
    "\n",
    "embeddings_model = HuggingFaceEmbeddings()\n",
    "\n",
    "document_embeddings = [embeddings_model.embed(doc) for doc in documents]\n",
    "document_embeddings = np.array(document_embeddings).astype('float32')\n",
    "\n",
    "index = faiss.IndexFlatL2(document_embeddings.shape[1])\n",
    "index.add(document_embeddings)"
   ]
  },
  {
   "cell_type": "code",
   "execution_count": 5,
   "metadata": {},
   "outputs": [],
   "source": [
    "\n",
    "def retriever(index, query, k=5):\n",
    "    query_embedding = embeddings_model.embed(query)\n",
    "    distances, indices = index.search(np.array([query_embedding]).astype('float32'), k)\n",
    "    return [documents[i] for i in indices[0]]\n",
    "\n",
    "results = retriever(index, embeddings_model)\n"
   ]
  },
  {
   "cell_type": "code",
   "execution_count": null,
   "metadata": {},
   "outputs": [],
   "source": [
    "from ollama\n",
    "from string import Template\n",
    "\n",
    "llm = Ollama(model=\"llama3.2\")\n",
    "\n",
    "prompt_template = Template(\"\"\"\n",
    "Use ONLY the context below.\n",
    "If unsure, say \"I don't know\".\n",
    "Keep answers under 4 sentences.\n",
    "\n",
    "Context: $context\n",
    "Question: $question\n",
    "Answer:\n",
    "\"\"\")"
   ]
  },
  {
   "cell_type": "code",
   "execution_count": null,
   "metadata": {},
   "outputs": [],
   "source": [
    "def answer_query(question):\n",
    "    context = retriever.retrieve(question)\n",
    "    combined_context = \"n\".join(context)\n",
    "    response = llm.generate(prompt_template.substitute(context=combined_context, question=question))    \n",
    "    return response.strip()\n"
   ]
  },
  {
   "cell_type": "code",
   "execution_count": null,
   "metadata": {},
   "outputs": [],
   "source": [
    "answer_query(\"your query goes here...\")"
   ]
  }
 ],
 "metadata": {
  "kernelspec": {
   "display_name": "Python 3",
   "language": "python",
   "name": "python3"
  },
  "language_info": {
   "codemirror_mode": {
    "name": "ipython",
    "version": 3
   },
   "file_extension": ".py",
   "mimetype": "text/x-python",
   "name": "python",
   "nbconvert_exporter": "python",
   "pygments_lexer": "ipython3",
   "version": "3.11.9"
  }
 },
 "nbformat": 4,
 "nbformat_minor": 2
}
